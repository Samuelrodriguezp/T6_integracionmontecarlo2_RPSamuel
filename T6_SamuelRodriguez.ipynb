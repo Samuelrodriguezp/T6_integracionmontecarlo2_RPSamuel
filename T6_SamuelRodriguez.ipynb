{
 "cells": [
  {
   "cell_type": "markdown",
   "metadata": {},
   "source": [
    "<img style=\"float: left; margin: 30px 15px 15px 15px;\" src=\"https://encrypted-tbn0.gstatic.com/images?q=tbn:ANd9GcTFzQj91sOlkeDFkg5HDbjtR4QJYmLXkfMNig&usqp=CAU\" width=\"400\" height=\"500\" /> \n",
    "    \n",
    "    \n",
    "### <font color='navy'> Simulación matemática. \n",
    "\n",
    "**Nombres:** Samuel Rodríguez Partida\n",
    "\n",
    "**Fecha:** 10 de octubre del 2022.\n",
    "\n",
    "**Expediente** : ic727594\n",
    "    \n",
    "**Profesor:** Oscar David Jaramillo Zuluaga.\n",
    "    \n",
    "**Link Github**: https://github.com/Samuelrodriguezp\n",
    "\n",
    "# Tarea 6"
   ]
  },
  {
   "cell_type": "markdown",
   "metadata": {},
   "source": [
    "## Enunciado de tarea (Transcibirlo)\n",
    "> Descripción de la tarea"
   ]
  },
  {
   "cell_type": "markdown",
   "metadata": {},
   "source": [
    "### Ejercicio 1: (enunciado) Transcribirlo"
   ]
  },
  {
   "cell_type": "code",
   "execution_count": 21,
   "metadata": {},
   "outputs": [],
   "source": [
    "#importación de librerías\n",
    "\n",
    "import numpy as np\n",
    "import pandas as pd    \n",
    "import matplotlib.pyplot as plt\n",
    "\n",
    "#defino mi región\n",
    "def reg(x,y):\n",
    "    return x**2 + 2*y**2 <= -2*x + 8*y -7"
   ]
  },
  {
   "cell_type": "code",
   "execution_count": 24,
   "metadata": {},
   "outputs": [],
   "source": [
    "#Creo mi función montecarlo\n",
    "\n",
    "def montecarlo(reg, a1, b1, a2, b2, N):\n",
    "    AR = (b1-a1)*(b2-a2)\n",
    "    x = np.random.uniform(a1, b1, N)\n",
    "    y = np.random.uniform(a2, b2, N)\n",
    "    bi = reg(x,y)\n",
    "    AD_approx  = AR*np.mean(bi)\n",
    "    return  AD_approx"
   ]
  },
  {
   "cell_type": "code",
   "execution_count": 17,
   "metadata": {},
   "outputs": [],
   "source": [
    "#Defino mis límites del espacio\n",
    "\n",
    "xnum = np.linspace(-5,5,1000)\n",
    "ynum = np.linspace(-5,5,1000)\n",
    "\n",
    "X, Y = np.meshgrid(xnum, ynum)"
   ]
  },
  {
   "cell_type": "code",
   "execution_count": 19,
   "metadata": {},
   "outputs": [
    {
     "data": {
      "image/png": "[encoded data removed]",
      "text/plain": [
       "<Figure size 648x648 with 1 Axes>"
      ]
     },
     "metadata": {
      "needs_background": "light"
     },
     "output_type": "display_data"
    }
   ],
   "source": [
    "#Graficar\n",
    "\n",
    "plt.figure(figsize=(9, 9))\n",
    "plt.scatter(X, Y, c=~reg(X,Y), cmap='jet') \n",
    "\n",
    "plt.grid()\n",
    "plt.show()"
   ]
  },
  {
   "cell_type": "code",
   "execution_count": 29,
   "metadata": {},
   "outputs": [
    {
     "ename": "ValueError",
     "evalue": "array is too big; `arr.size * arr.dtype.itemsize` is larger than the maximum possible size.",
     "output_type": "error",
     "traceback": [
      "\u001b[1;31m---------------------------------------------------------------------------\u001b[0m",
      "\u001b[1;31mValueError\u001b[0m                                Traceback (most recent call last)",
      "Input \u001b[1;32mIn [29]\u001b[0m, in \u001b[0;36m<cell line: 11>\u001b[1;34m()\u001b[0m\n\u001b[0;32m      9\u001b[0m tabla \u001b[38;5;241m=\u001b[39m pd\u001b[38;5;241m.\u001b[39mDataFrame(index \u001b[38;5;241m=\u001b[39m N, columns\u001b[38;5;241m=\u001b[39m[\u001b[38;5;124m'\u001b[39m\u001b[38;5;124mAproximación\u001b[39m\u001b[38;5;124m'\u001b[39m])\n\u001b[0;32m     11\u001b[0m \u001b[38;5;28;01mfor\u001b[39;00m n \u001b[38;5;129;01min\u001b[39;00m N:\n\u001b[1;32m---> 12\u001b[0m     area_aproximada \u001b[38;5;241m=\u001b[39m \u001b[43mmontecarlo\u001b[49m\u001b[43m(\u001b[49m\u001b[43mreg\u001b[49m\u001b[43m,\u001b[49m\u001b[43m \u001b[49m\u001b[43ma1\u001b[49m\u001b[43m,\u001b[49m\u001b[43m \u001b[49m\u001b[43mb1\u001b[49m\u001b[43m,\u001b[49m\u001b[43m \u001b[49m\u001b[43ma2\u001b[49m\u001b[43m,\u001b[49m\u001b[43m \u001b[49m\u001b[43mb2\u001b[49m\u001b[43m,\u001b[49m\u001b[43m \u001b[49m\u001b[43mN\u001b[49m\u001b[43m)\u001b[49m\n\u001b[0;32m     13\u001b[0m     tabla\u001b[38;5;241m.\u001b[39mloc[n, \u001b[38;5;124m'\u001b[39m\u001b[38;5;124mAproximación\u001b[39m\u001b[38;5;124m'\u001b[39m] \u001b[38;5;241m=\u001b[39m area_aprox\n",
      "Input \u001b[1;32mIn [24]\u001b[0m, in \u001b[0;36mmontecarlo\u001b[1;34m(reg, a1, b1, a2, b2, N)\u001b[0m\n\u001b[0;32m      3\u001b[0m \u001b[38;5;28;01mdef\u001b[39;00m \u001b[38;5;21mmontecarlo\u001b[39m(reg, a1, b1, a2, b2, N):\n\u001b[0;32m      4\u001b[0m     AR \u001b[38;5;241m=\u001b[39m (b1\u001b[38;5;241m-\u001b[39ma1)\u001b[38;5;241m*\u001b[39m(b2\u001b[38;5;241m-\u001b[39ma2)\n\u001b[1;32m----> 5\u001b[0m     x \u001b[38;5;241m=\u001b[39m \u001b[43mnp\u001b[49m\u001b[38;5;241;43m.\u001b[39;49m\u001b[43mrandom\u001b[49m\u001b[38;5;241;43m.\u001b[39;49m\u001b[43muniform\u001b[49m\u001b[43m(\u001b[49m\u001b[43ma1\u001b[49m\u001b[43m,\u001b[49m\u001b[43m \u001b[49m\u001b[43mb1\u001b[49m\u001b[43m,\u001b[49m\u001b[43m \u001b[49m\u001b[43mN\u001b[49m\u001b[43m)\u001b[49m\n\u001b[0;32m      6\u001b[0m     y \u001b[38;5;241m=\u001b[39m np\u001b[38;5;241m.\u001b[39mrandom\u001b[38;5;241m.\u001b[39muniform(a2, b2, N)\n\u001b[0;32m      7\u001b[0m     bi \u001b[38;5;241m=\u001b[39m reg(x,y)\n",
      "File \u001b[1;32mmtrand.pyx:1118\u001b[0m, in \u001b[0;36mnumpy.random.mtrand.RandomState.uniform\u001b[1;34m()\u001b[0m\n",
      "File \u001b[1;32m_common.pyx:598\u001b[0m, in \u001b[0;36mnumpy.random._common.cont\u001b[1;34m()\u001b[0m\n",
      "\u001b[1;31mValueError\u001b[0m: array is too big; `arr.size * arr.dtype.itemsize` is larger than the maximum possible size."
     ]
    }
   ],
   "source": [
    "#Resolvemos\n",
    "\n",
    "a1, b1, a2, b2 = -1, -1, 1, 1\n",
    "\n",
    "#Número de términos \n",
    "N = np.logspace(1, 7, 7).astype(int)\n",
    "\n",
    "#Crear Dataframe\n",
    "tabla = pd.DataFrame(index = N, columns=['Aproximación'])\n",
    "\n",
    "for n in N:\n",
    "    area_aproximada = montecarlo(reg, a1, b1, a2, b2, N)\n",
    "    tabla.loc[n, 'Aproximación'] = area_aprox\n",
    "    "
   ]
  },
  {
   "cell_type": "markdown",
   "metadata": {},
   "source": [
    "### Respuesta planteada en el ejercicio usando (markdown)\n",
    " La respuesta es ........."
   ]
  }
 ],
 "metadata": {
  "kernelspec": {
   "display_name": "Python 3 (ipykernel)",
   "language": "python",
   "name": "python3"
  },
  "language_info": {
   "codemirror_mode": {
    "name": "ipython",
    "version": 3
   },
   "file_extension": ".py",
   "mimetype": "text/x-python",
   "name": "python",
   "nbconvert_exporter": "python",
   "pygments_lexer": "ipython3",
   "version": "3.9.12"
  }
 },
 "nbformat": 4,
 "nbformat_minor": 2
}
